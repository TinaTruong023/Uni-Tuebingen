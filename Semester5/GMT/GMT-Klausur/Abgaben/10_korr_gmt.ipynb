{
 "cells": [
  {
   "cell_type": "markdown",
   "id": "068f5d3f",
   "metadata": {},
   "source": [
    "# Grundlagen der Multimediatechnik\n",
    "## Wintersemester 2021/2022"
   ]
  },
  {
   "cell_type": "markdown",
   "id": "851ec115",
   "metadata": {},
   "source": [
    "## Übungslatt 10\n",
    "<b>Wichtig</b>: Bitte kennzeichnen Sie Ihre Abgabe mit Ihrem Namen und dem Namen Ihres Übungspartners. <br>\n",
    "Laden Sie bitte Ihre Abgabe als PDF-/ZIP-Datei auf der ILIAS-Plattform hoch. Andere Dateiformate sowie Scans von handgeschriebenen Abgaben werden nicht gewertet. Achten Sie darauf, nur kompilierbaren, kommentierten Code abzugeben. Nicht-kompilierbarer Code wird mit <b>0 Punkten</b> bewertet! \\\\\n",
    "Alle Abgaben müussen folgender Namenskonvention entsprechen:  `gmt_uebungXX_nachname1_nachname2.format` <br>\n",
    "Im Falle Ihres Notebooks: `gmt_uebungXX_nachname1_nachmame2.ipynb`"
   ]
  },
  {
   "cell_type": "code",
   "execution_count": 1,
   "id": "f5adeab6",
   "metadata": {},
   "outputs": [],
   "source": [
    "# imports\n",
    "\n",
    "import numpy as np\n",
    "import cv2\n",
    "from PIL import Image\n",
    "import time"
   ]
  },
  {
   "cell_type": "markdown",
   "id": "857a619e",
   "metadata": {},
   "source": [
    "### Aufgabe 2 - Edge Change Ratio (13 Punkte)\n",
    "Implementieren Sie nun eine einfache Schnitterkennung nach der in der Vorlesung vorgestellten Edge Change Ratio (ECR) Methode für das `tagesschau.gif`. <br>\n",
    "Um die Schnitterkennung durchführen zu können, müssen die einzelnen Frames des GIFs in Graustufenbilder konvertiert werden. Dieser Prozess erfolgt in der Funktion `grey_image_list()`, die eine Liste der Graustufenbilder zurückgibt. Hierfür benötigen Sie die Pythonbibliothek `pillow`."
   ]
  },
  {
   "cell_type": "code",
   "execution_count": 2,
   "id": "3bff1bab",
   "metadata": {},
   "outputs": [],
   "source": [
    "def grey_image_list(gif):\n",
    "    image_list = []\n",
    "    for frame in range(gif.n_frames):\n",
    "        gif.seek(frame)\n",
    "        image_list.append(np.asarray(gif.convert(\"L\")))\n",
    "    return image_list"
   ]
  },
  {
   "cell_type": "markdown",
   "id": "5278ca20",
   "metadata": {},
   "source": [
    "1. Im nächsten Schritt implementieren Sie die Funktion `edge_detection()`, die für jeden Frame die Kantenerkennung durchführt und ebenfalls eine Liste von Frames zurückgibt. Berechnen Sie dabei zuerst die Gradienten, um die Gradientmagnitude herleiten zu können. Führen Sie anschließend eine Schwellwertfilterung durch. Die Schwellwertfilterung ist definiert als:\n",
    "$$ T_{global}(g) = \\begin{cases}\n",
    "    0 & \\text{wenn}\\ g < 35\\\\\n",
    "    255 & \\text{wenn}\\ g \\geq 35\n",
    "\\end{cases}$$\n",
    "Sie können für die Gradientenberechnung die `gradient()`-Funktion von `numpy` nutzen."
   ]
  },
  {
   "cell_type": "code",
   "execution_count": 3,
   "id": "75bfd0f4",
   "metadata": {},
   "outputs": [],
   "source": [
    "def edge_detection(image_list):\n",
    "\n",
    "    frame_list =[]\n",
    "\n",
    "    for image in image_list: \n",
    "        G_x = np.gradient(image, axis=0)\n",
    "        \n",
    "        G_y = np.gradient(image, axis=1)\n",
    "        M = np.round(np.sqrt( (G_x* G_x) + (G_y* G_y) ))\n",
    "        \n",
    "        M[M<35] = 0\n",
    "        M[M>=35] = 255  \n",
    "\n",
    "        frame_list.append(M)\n",
    "        \n",
    "    return frame_list\n",
    "    "
   ]
  },
  {
   "cell_type": "markdown",
   "id": "476eb23f",
   "metadata": {},
   "source": [
    "2. Vervollständigen Sie nun die Funktion `ecr()`. Hierfür berechnen Sie die Anzahl der Pixel der Kanten, welche bei Frame-Wechsel hinzukommen $(E_{in})$ oder wegfallen $(E_{out})$, sowie die Anzahl der Kantenpixel im aktuellen $(s_i)$ und im vorhergehenden Bild $(s_{i-1})$.\n",
    "$$\\mathrm{ECR}_{i-1} = \\max\\left(\\frac{E_{in}}{s_{i-1}}, \\frac{E_{out}}{s_{i}}\\right)$$\n",
    "Liegt der Wert über 1, so ist ein Schnitt zu erkennen."
   ]
  },
  {
   "cell_type": "code",
   "execution_count": 4,
   "id": "7f91f1cf",
   "metadata": {},
   "outputs": [],
   "source": [
    "def ecr(image_list):\n",
    "\n",
    "    def edge_number(image): \n",
    "        \n",
    "        x = (image == 255)\n",
    "        number = len(image[x])\n",
    "\n",
    "        return number \n",
    "    \n",
    "    cut = []\n",
    "    \n",
    "    for i in range(len(image_list)-1): \n",
    "        \n",
    "        \n",
    "        #Anzahl der Kantenpixel in vorherigem Bild\n",
    "        image_j = image_list[i]\n",
    "        s_j = edge_number(image_j)\n",
    "\n",
    "        #Anzahl der Kantenpixel in aktuellem Bild \n",
    "        image_i = image_list[i+1]\n",
    "        s_i = edge_number(image_i)\n",
    "\n",
    "        #E_in \n",
    "\n",
    "        diff_in = image_i - image_j \n",
    "        e_in = edge_number(diff_in)\n",
    "\n",
    "        #E_out\n",
    "\n",
    "        diff_out = image_j - image_i \n",
    "        e_out = edge_number(diff_out)\n",
    "\n",
    "        ecr_i = max(e_in/s_j , e_out/s_i)\n",
    "\n",
    "        if(ecr_i >= 1): \n",
    "            cut.append(i)\n",
    "\n",
    "    # TODO\n",
    "    return cut\n",
    "\n",
    "\n",
    "\n",
    "\n",
    "\n",
    "\n",
    "\n"
   ]
  },
  {
   "cell_type": "code",
   "execution_count": 5,
   "id": "0165f185",
   "metadata": {},
   "outputs": [
    {
     "name": "stdout",
     "output_type": "stream",
     "text": [
      "Schnitt erkannt bei Frame:  [158, 159]\n"
     ]
    }
   ],
   "source": [
    "gif = Image.open('tagesschau_intro.gif')\n",
    "\n",
    "#since = time.time()\n",
    "\n",
    "greyscale_images = grey_image_list(gif)\n",
    "edges = edge_detection(greyscale_images)\n",
    "cut = ecr(edges)\n",
    "\n",
    "#time_elapsed = time.time() - since\n",
    "#print('Complete in {:.0f}m {:.0f}s'.format(time_elapsed // 60, time_elapsed % 60))\n",
    "print('Schnitt erkannt bei Frame: ', cut)\n"
   ]
  },
  {
   "cell_type": "markdown",
   "id": "ca34ddd2",
   "metadata": {},
   "source": [
    "Bei welchem Frame-Übergang erkennt Ihr Programm einen Schnitt?"
   ]
  },
  {
   "cell_type": "markdown",
   "id": "04fba1aa",
   "metadata": {},
   "source": [
    "Das Programm erkennt einen Schnitt zwischen Frame 158 und 159."
   ]
  },
  {
   "cell_type": "code",
   "execution_count": 5,
   "id": "9dbda7d7",
   "metadata": {},
   "outputs": [],
   "source": []
  }
 ],
 "metadata": {
  "kernelspec": {
   "display_name": "Python 3 (ipykernel)",
   "language": "python",
   "name": "python3"
  },
  "language_info": {
   "codemirror_mode": {
    "name": "ipython",
    "version": 3
   },
   "file_extension": ".py",
   "mimetype": "text/x-python",
   "name": "python",
   "nbconvert_exporter": "python",
   "pygments_lexer": "ipython3",
   "version": "3.8.6"
  }
 },
 "nbformat": 4,
 "nbformat_minor": 5
}