{
 "cells": [
  {
   "cell_type": "markdown",
   "id": "dbcf36ea",
   "metadata": {},
   "source": [
    "# Grundlagen der Multimediatechnik\n",
    "## Wintersemester 2021/2022"
   ]
  },
  {
   "cell_type": "markdown",
   "id": "640dbc2b",
   "metadata": {},
   "source": [
    "### Studierenden Informationen\n",
    "\n",
    "Wir benötigen einige allgemeine Informationen über die Teilnehmer dieser Vorlesung. Das würde uns später viel Zeit sparen. Danke!\n",
    "\n",
    "<b>Vorname:</b>Tina, Laura<br>\n",
    "<b>Nachname:</b>Truong, \"Dr. Dr.\" Bantle \"Graphicdesign Is My Passion\"<br>\n",
    "<b>Matrikelnummer:</b>5430589, 5424980<br>\n",
    "<b>Studiengang (und angestrebter Abschluss B.Sc./M.Sc./...):</b>Medieninformatik B.sc., Medieninformatik B.sc.<br>"
   ]
  },
  {
   "cell_type": "markdown",
   "id": "60d08b42",
   "metadata": {},
   "source": [
    "## Übungsblatt 1\n",
    "\n",
    "<b>Wichtig</b>: Bitte kennzeichnen Sie Ihre Abgabe mit Ihrem Namen und dem Namen Ihres Übungspartners. <br>\n",
    "Laden Sie bitte Ihre Abgabe als PDF-/ZIP-Datei auf der ILIAS-Plattform hoch. Andere Dateiformate sowie Scans von handgeschriebenen Abgaben werden nicht gewertet. Achten Sie darauf, nur kompilierbaren, kommentierten Code abzugeben. Nicht-kompilierbarer Code wird mit <b>0 Punkten</b> bewertet! \\\\\n",
    "Alle Abgaben müussen folgender Namenskonvention entsprechen:  `gmt_uebungXX_nachname1_nachname2.format` <br>\n",
    "Im Falle Ihres Notebooks: `gmt_uebungXX_nachname1_nachmame2.ipynb`"
   ]
  },
  {
   "cell_type": "code",
   "execution_count": 1,
   "id": "f3fbb4b1",
   "metadata": {},
   "outputs": [],
   "source": [
    "# imports\n",
    "\n",
    "import numpy as np\n",
    "import matplotlib.pyplot as plt\n",
    "import math"
   ]
  },
  {
   "cell_type": "markdown",
   "id": "588d9925",
   "metadata": {},
   "source": [
    "### Aufgabe 3.1 - Farbräume 1 (4 Punkte)\n",
    "\n",
    "Zeigen Sie anhand einer Berechnung für das YCbCr-Modell, dass die Eckpunkte des RGB-Kubus (mit 8 Bit Genauigkeit pro Farbkanal) innerhalb des YCbCr-Kubus (Y-Werte von 16 bis 235, Rest von 16 bis 240) liegen, indem Sie zeigen, dass alle seine Eckpunkte darin liegen. Gehen Sie dabei von folgender Formel aus (welche einen Punkt aus dem RGB Raum in den YCbCr Raum überträgt):\n",
    "$$\\text{YCbCr} = \n",
    "\\begin{pmatrix}\n",
    "    0.183 & 0.614 & 0.062 \\\\\n",
    "    -0.101 &  -0.338 & 0.439 \\\\\n",
    "    0.439 &  -0.399 &  -0.040\n",
    "\\end{pmatrix} \\cdot\n",
    "\\begin{pmatrix}\n",
    "    \\text{R} \\\\ \\text{G} \\\\ \\text{B}\n",
    "\\end{pmatrix} +\n",
    "\\begin{pmatrix}\n",
    "    16 \\\\ 128 \\\\ 128\n",
    "\\end{pmatrix}$$\n",
    "Vervollständigen Sie dafür die Funktion `rgb_to_ycbcr`, die ein `numpy`-Array mit RGB-Farben als Input bekommt und ein `numpy`-Array mit YCbCr-Farben zurückgibt. Speichern Sie zuerst alle Eckpunkte des RGB-Kubus mit 8 Bit Genauigkeit pro Farbkanal in ein `numpy`-Array. <br>\n",
    "<b>Hinweis:</b> `rgb_edge` ist ein 2-dimensionales Array der Größe $8\\times 3$."
   ]
  },
  {
   "cell_type": "code",
   "execution_count": 2,
   "id": "df95e05b",
   "metadata": {},
   "outputs": [
    {
     "data": {
      "text/plain": "(8, 3)"
     },
     "execution_count": 2,
     "metadata": {},
     "output_type": "execute_result"
    }
   ],
   "source": [
    "edge_red = [255,0,0]\n",
    "edge_green = [0,255,0]\n",
    "edge_blue = [0,0,255]\n",
    "edge_white = [255,255,255]\n",
    "edge_black = [0,0,0]\n",
    "edge_cyan = [0,255,255]\n",
    "edge_magenta = [255,0,255]\n",
    "edge_yellow = [255,255,0]\n",
    "\n",
    "rgb_edges = np.array([ edge_black, edge_red, edge_blue,\n",
    "                       edge_green, edge_yellow, edge_magenta,\n",
    "                       edge_cyan, edge_white])\n",
    "rgb_edges.shape\n",
    "# print(rgb_edges)"
   ]
  },
  {
   "cell_type": "code",
   "execution_count": 12,
   "id": "b1ab4ade",
   "metadata": {},
   "outputs": [],
   "source": [
    "def rgb2ycbcr(rgb): # 3 Punkte\n",
    "    # TODO\n",
    "    transMatrix2ycbcr = np.array([ [0.183, 0.614, 0.062],\n",
    "                               [-0.101, -0.338, 0.439],\n",
    "                               [0.439, -0.399, -0.040] ])\n",
    "    ycbcr = transMatrix2ycbcr.dot(rgb) + np.array([16,128,128])\n",
    "    return ycbcr"
   ]
  },
  {
   "cell_type": "code",
   "execution_count": 13,
   "id": "59a6034a",
   "metadata": {},
   "outputs": [
    {
     "ename": "TypeError",
     "evalue": "type numpy.ndarray doesn't define __round__ method",
     "output_type": "error",
     "traceback": [
      "\u001B[1;31m---------------------------------------------------------------------------\u001B[0m",
      "\u001B[1;31mTypeError\u001B[0m                                 Traceback (most recent call last)",
      "\u001B[1;32m~\\AppData\\Local\\Temp/ipykernel_5836/414435545.py\u001B[0m in \u001B[0;36m<module>\u001B[1;34m\u001B[0m\n\u001B[0;32m      1\u001B[0m \u001B[1;32mfor\u001B[0m \u001B[0mrgb\u001B[0m \u001B[1;32min\u001B[0m \u001B[0mrgb_edges\u001B[0m\u001B[1;33m:\u001B[0m\u001B[1;33m\u001B[0m\u001B[1;33m\u001B[0m\u001B[0m\n\u001B[1;32m----> 2\u001B[1;33m     \u001B[0mycbcr\u001B[0m \u001B[1;33m=\u001B[0m \u001B[0mrgb2ycbcr\u001B[0m\u001B[1;33m(\u001B[0m\u001B[0mrgb\u001B[0m\u001B[1;33m)\u001B[0m\u001B[1;33m\u001B[0m\u001B[1;33m\u001B[0m\u001B[0m\n\u001B[0m\u001B[0;32m      3\u001B[0m     \u001B[0mprint\u001B[0m\u001B[1;33m(\u001B[0m\u001B[1;34m\"{} -> {}\"\u001B[0m \u001B[1;33m.\u001B[0m\u001B[0mformat\u001B[0m\u001B[1;33m(\u001B[0m\u001B[0mrgb\u001B[0m\u001B[1;33m,\u001B[0m \u001B[0mycbcr\u001B[0m\u001B[1;33m)\u001B[0m\u001B[1;33m)\u001B[0m\u001B[1;33m\u001B[0m\u001B[1;33m\u001B[0m\u001B[0m\n\u001B[0;32m      4\u001B[0m \u001B[1;33m\u001B[0m\u001B[0m\n",
      "\u001B[1;32m~\\AppData\\Local\\Temp/ipykernel_5836/4138745240.py\u001B[0m in \u001B[0;36mrgb2ycbcr\u001B[1;34m(rgb)\u001B[0m\n\u001B[0;32m      7\u001B[0m                                \u001B[1;33m[\u001B[0m\u001B[1;33m-\u001B[0m\u001B[1;36m0.101\u001B[0m\u001B[1;33m,\u001B[0m \u001B[1;33m-\u001B[0m\u001B[1;36m0.338\u001B[0m\u001B[1;33m,\u001B[0m \u001B[1;36m0.439\u001B[0m\u001B[1;33m]\u001B[0m\u001B[1;33m,\u001B[0m\u001B[1;33m\u001B[0m\u001B[1;33m\u001B[0m\u001B[0m\n\u001B[0;32m      8\u001B[0m                                [0.439, -0.399, -0.040] ])\n\u001B[1;32m----> 9\u001B[1;33m     \u001B[0mycbcr\u001B[0m \u001B[1;33m=\u001B[0m \u001B[0mround\u001B[0m\u001B[1;33m(\u001B[0m \u001B[0mtransMatrix2ycbcr\u001B[0m\u001B[1;33m.\u001B[0m\u001B[0mdot\u001B[0m\u001B[1;33m(\u001B[0m\u001B[0mrgb\u001B[0m\u001B[1;33m)\u001B[0m \u001B[1;33m+\u001B[0m \u001B[0mnp\u001B[0m\u001B[1;33m.\u001B[0m\u001B[0marray\u001B[0m\u001B[1;33m(\u001B[0m\u001B[1;33m[\u001B[0m\u001B[1;36m16\u001B[0m\u001B[1;33m,\u001B[0m\u001B[1;36m128\u001B[0m\u001B[1;33m,\u001B[0m\u001B[1;36m128\u001B[0m\u001B[1;33m]\u001B[0m\u001B[1;33m)\u001B[0m\u001B[1;33m,\u001B[0m \u001B[1;36m1\u001B[0m\u001B[1;33m)\u001B[0m\u001B[1;33m\u001B[0m\u001B[1;33m\u001B[0m\u001B[0m\n\u001B[0m\u001B[0;32m     10\u001B[0m     \u001B[1;32mreturn\u001B[0m \u001B[0mycbcr\u001B[0m\u001B[1;33m\u001B[0m\u001B[1;33m\u001B[0m\u001B[0m\n\u001B[0;32m     11\u001B[0m \u001B[1;33m\u001B[0m\u001B[0m\n",
      "\u001B[1;31mTypeError\u001B[0m: type numpy.ndarray doesn't define __round__ method"
     ]
    }
   ],
   "source": [
    "for rgb in rgb_edges:\n",
    "    ycbcr = rgb2ycbcr(rgb)\n",
    "    print(\"{} -> {}\" .format(rgb, ycbcr))"
   ]
  },
  {
   "cell_type": "markdown",
   "id": "9096ec84",
   "metadata": {},
   "source": [
    "### Aufgabe 3.2 - Farbäume 2 (8 Punkte)"
   ]
  },
  {
   "cell_type": "markdown",
   "id": "31db56d2",
   "metadata": {},
   "source": [
    "Vervollständigen Sie die Funktion `rgb2hsv`, die einen beliebigen RGB-Farbwert (mit 8 Bit Genauigkeit pro Farbkanal) in HSV-Farbwert transformiert, und die Funktion `hsv2rgb`, die den zuvor berechneten HSV-Farbwert zurück transformiert. Beide Funktionen erhalten einen `numpy`-Array mit 3 Werten als Input und geben einen `numpy`-Array mit der gleichen Dimensionalität zurück. <br>\n",
    "<b>Hinweis:</b> Vergessen Sie nicht, die Farben richtig umzurechnen."
   ]
  },
  {
   "cell_type": "code",
   "execution_count": 14,
   "id": "98b06c4d",
   "metadata": {},
   "outputs": [],
   "source": [
    "def rgb2hsv(rgb):\n",
    "    # TODO\n",
    "    colorIsBlack = (rgb == np.array([0,0,0])).all()\n",
    "    if colorIsBlack:\n",
    "        value = 0\n",
    "        saturation = 0\n",
    "        hue = 0\n",
    "    else:\n",
    "        maxRGB = max(rgb)\n",
    "        minRGB = min(rgb)\n",
    "        r = rgb[0]\n",
    "        g = rgb[1]\n",
    "        b = rgb[2]\n",
    "\n",
    "        value = maxRGB # 0...255\n",
    "        saturation = round( (maxRGB-minRGB)/maxRGB, 2)# in intervall [0 1]\n",
    "\n",
    "        def getHue():\n",
    "            def getColor(c):\n",
    "                minSubtrMax = maxRGB-minRGB\n",
    "                if minSubtrMax == 0:\n",
    "                    color = 0\n",
    "                else:\n",
    "                    color = (maxRGB-c)/minSubtrMax\n",
    "                return color\n",
    "\n",
    "            r_s = getColor(r)\n",
    "            g_s = getColor(g)\n",
    "            b_s = getColor(b)\n",
    "            h_s = 0\n",
    "\n",
    "            if maxRGB == r:\n",
    "                h_s = b_s - g_s\n",
    "            elif maxRGB == g:\n",
    "                h_s = r_s - b_s + 2\n",
    "            elif maxRGB == b:\n",
    "                h_s = g_s - r_s + 4\n",
    "            return round( (h_s / 6)%1, 2)\n",
    "        hue = getHue() #[0 1]\n",
    "\n",
    "    hsv = np.array( [hue,saturation,value]) # [0 1], [0 1], 0..255,\n",
    "    return hsv\n",
    "\n",
    "def hsv2rgb(hsv):\n",
    "    # TODO\n",
    "    h = hsv[0]\n",
    "    s = hsv[1]\n",
    "    v = hsv[2]\n",
    "\n",
    "    h_s = (6 * h)%6\n",
    "    c1 = math.floor(h_s)\n",
    "    c2 = h_s - c1\n",
    "    w1 = (1 - s) * v\n",
    "    w2 = (1 - s * c2) * v\n",
    "    w3 = (1 - s * (1 - c2))* v\n",
    "\n",
    "    def getRGB():\n",
    "        switcher = {\n",
    "            0: (v,w3,w1),\n",
    "            1: (w2,v,w1),\n",
    "            2: (w1,v,w3),\n",
    "            3: (w1,w2,v),\n",
    "            4: (w3,w1,v),\n",
    "            5: (v,w1,w2)\n",
    "        }\n",
    "        rgb = np.array( switcher.get(c1) )\n",
    "        rgb = rgb.transpose()\n",
    "        rgb = rgb.round()\n",
    "        return rgb\n",
    "\n",
    "    return getRGB()"
   ]
  },
  {
   "cell_type": "code",
   "execution_count": 15,
   "id": "b78f11d5",
   "metadata": {},
   "outputs": [],
   "source": [
    "# enter 3 rgb values separated by comma, e.g. 0,0,0 for black\n",
    "col = input()"
   ]
  },
  {
   "cell_type": "code",
   "execution_count": 16,
   "id": "7e402113",
   "metadata": {},
   "outputs": [
    {
     "name": "stdout",
     "output_type": "stream",
     "text": [
      "Entered rgb color: [155  25  30]\n"
     ]
    },
    {
     "data": {
      "text/plain": "<Figure size 432x288 with 1 Axes>",
      "image/png": "[encoded data removed]"
     },
     "metadata": {
      "needs_background": "light"
     },
     "output_type": "display_data"
    }
   ],
   "source": [
    "rgb_col = np.array([int(c) for c in col.split(',')])\n",
    "rgb_col[rgb_col<0] = 0\n",
    "rgb_col[rgb_col>255] = 255\n",
    "\n",
    "img_rgb = np.zeros((10,10,3), dtype=np.uint8)\n",
    "img_rgb[:] = rgb_col\n",
    "print(\"Entered rgb color: {}\" .format(rgb_col))\n",
    "plt.axis('off')\n",
    "plt.imshow(img_rgb)\n",
    "plt.show()"
   ]
  },
  {
   "cell_type": "code",
   "execution_count": 17,
   "id": "ab018419",
   "metadata": {},
   "outputs": [
    {
     "name": "stdout",
     "output_type": "stream",
     "text": [
      "Your calculated hsv color from rgb: [  0.99   0.84 155.  ]\n"
     ]
    }
   ],
   "source": [
    "hsv_col = rgb2hsv(rgb_col)\n",
    "print(\"Your calculated hsv color from rgb: {}\" .format(hsv_col)) # matplotlib cant plot hsv image"
   ]
  },
  {
   "cell_type": "code",
   "execution_count": 18,
   "id": "e338056b",
   "metadata": {
    "pycharm": {
     "name": "#%%\n"
    }
   },
   "outputs": [
    {
     "name": "stdout",
     "output_type": "stream",
     "text": [
      "Your back-calculated rgb color from hsv: [155.  25.  33.]\n"
     ]
    },
    {
     "data": {
      "text/plain": "<Figure size 432x288 with 1 Axes>",
      "image/png": "[encoded data removed]"
     },
     "metadata": {
      "needs_background": "light"
     },
     "output_type": "display_data"
    }
   ],
   "source": [
    "rgb_col = hsv2rgb(hsv_col)\n",
    "img_rgb = np.zeros((10,10,3), dtype=np.uint8)\n",
    "img_rgb[:] = rgb_col\n",
    "print(\"Your back-calculated rgb color from hsv: {}\" .format(rgb_col))\n",
    "plt.axis('off')\n",
    "plt.imshow(img_rgb)\n",
    "plt.show()"
   ]
  },
  {
   "cell_type": "code",
   "execution_count": null,
   "outputs": [],
   "source": [],
   "metadata": {
    "collapsed": false,
    "pycharm": {
     "name": "#%%"
    }
   }
  }
 ],
 "metadata": {
  "kernelspec": {
   "name": "pycharm-3e407fbe",
   "language": "python",
   "display_name": "PyCharm (GMT)"
  },
  "language_info": {
   "codemirror_mode": {
    "name": "ipython",
    "version": 3
   },
   "file_extension": ".py",
   "mimetype": "text/x-python",
   "name": "python",
   "nbconvert_exporter": "python",
   "pygments_lexer": "ipython3",
   "version": "3.8.12"
  }
 },
 "nbformat": 4,
 "nbformat_minor": 5
}