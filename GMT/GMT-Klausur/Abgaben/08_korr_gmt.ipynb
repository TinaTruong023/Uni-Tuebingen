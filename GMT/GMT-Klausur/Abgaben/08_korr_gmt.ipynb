{
 "cells": [
  {
   "cell_type": "markdown",
   "id": "068f5d3f",
   "metadata": {},
   "source": [
    "# Grundlagen der Multimediatechnik\n",
    "## Wintersemester 2021/2022"
   ]
  },
  {
   "cell_type": "markdown",
   "id": "851ec115",
   "metadata": {},
   "source": [
    "## Übungslatt 8\n",
    "<b>Wichtig</b>: Bitte kennzeichnen Sie Ihre Abgabe mit Ihrem Namen und dem Namen Ihres Übungspartners. <br>\n",
    "Laden Sie bitte Ihre Abgabe als PDF-/ZIP-Datei auf der ILIAS-Plattform hoch. Andere Dateiformate sowie Scans von handgeschriebenen Abgaben werden nicht gewertet. Achten Sie darauf, nur kompilierbaren, kommentierten Code abzugeben. Nicht-kompilierbarer Code wird mit <b>0 Punkten</b> bewertet! \\\\\n",
    "Alle Abgaben müussen folgender Namenskonvention entsprechen:  `gmt_uebungXX_nachname1_nachname2.format` <br>\n",
    "Im Falle Ihres Notebooks: `gmt_uebungXX_nachname1_nachmame2.ipynb`"
   ]
  },
  {
   "cell_type": "code",
   "execution_count": 1,
   "id": "f5adeab6",
   "metadata": {},
   "outputs": [],
   "source": [
    "# imports\n",
    "\n",
    "import numpy as np"
   ]
  },
  {
   "cell_type": "markdown",
   "id": "857a619e",
   "metadata": {},
   "source": [
    "### Aufgabe 4 - Diskrete Kosinustransformation (5 Punkte)\n",
    "Gegeben sei die Matrix $w$ im Ortsraum, die einen $8\\times 8$ Pixelblock darstellt:\n",
    "$$w = \\begin{pmatrix}\n",
    "      25 & 42 & 55 & 64 & 68 & 68 & 64 & 55 \\\\\n",
    "      35 & 56 & 72 & 83 & 88 & 88 & 83 & 72 \\\\\n",
    "      42 & 66 & 84 & 96 & 102 & 102 & 96 & 84 \\\\\n",
    "      46 & 72 & 92 & 104 & 111 & 111 & 104 & 92 \\\\\n",
    "      48 & 74 & 94 & 108 & 114 & 114 & 108 & 94 \\\\\n",
    "      47 & 73 & 92 & 105 & 112 & 112 & 105 & 92 \\\\\n",
    "      43 & 67 & 85 & 98 & 104 & 104 & 98 & 85 \\\\\n",
    "      36 & 58 & 74 & 85 & 90 & 90 & 85 & 74\n",
    "    \\end{pmatrix}$$\n",
    "Die Werte der Ergebnismatrix im Frequenzraum können mit folgender Formel aus der Vorlesung berechnet werden:\n",
    " $$ C_{u,v} = \\alpha(u) \\cdot \\alpha(v) \\cdot \\sum_{m=0}^7\n",
    "  \\sum_{n=0}^7 w_{m,n} \\cdot \\cos\\frac{(2m+1)\\pi u}{16} \\cdot\n",
    "  \\cos\\frac{(2n+1)\\pi v}{16} $$\n",
    "Wobei\n",
    "  $$ \\alpha(x) = \\begin{cases}\n",
    "   \\sqrt{\\frac{1}{8}}, & \\text{wenn}\\ x = 0\\\\\n",
    "    \\sqrt{\\frac{2}{8}} & \\text{sonst.}\n",
    "  \\end{cases} $$\n",
    "Berechnen Sie die Werte der Ergebnismatrix."
   ]
  },
  {
   "cell_type": "code",
   "execution_count": 2,
   "id": "3bff1bab",
   "metadata": {},
   "outputs": [],
   "source": [
    "# TODO\n",
    "w = np.array( [ [25, 42, 55, 64, 68, 68, 64, 55],\n",
    "                [35, 56, 72, 83, 88, 88, 83, 72],\n",
    "                [42, 66, 84, 96, 102, 102, 96, 84],\n",
    "                [46, 72, 92, 104, 111, 111, 104, 92],\n",
    "                [48, 74, 94, 108, 114, 114, 108, 94],\n",
    "                [47, 73, 92, 105, 112, 112, 105, 92],\n",
    "                [43, 67, 85, 98, 104, 104, 98, 85],\n",
    "                [36, 58, 74, 85, 90, 90, 85, 74]\n",
    "              ])"
   ]
  },
  {
   "cell_type": "code",
   "execution_count": 3,
   "id": "ce166fd9",
   "metadata": {
    "pycharm": {
     "name": "#%%\n"
    }
   },
   "outputs": [],
   "source": [
    "def calcDCT(matrix):\n",
    "    # ----helper functions----\n",
    "    def clamp(x):\n",
    "        result = np.sqrt(2/8)\n",
    "        if x == 0:\n",
    "            result = np.sqrt(1/8)\n",
    "        return result\n",
    "    def calcCos(oldPos, newPos):\n",
    "         return np.cos( ((2*oldPos+1) * np.pi * newPos) * 1/16 )\n",
    "    # ----end of helper functions----\n",
    "\n",
    "    dctMatrix = np.zeros( (8,8),int)\n",
    "\n",
    "    # position of dct-matrix\n",
    "    for u in range(8):\n",
    "        for v in range(8):\n",
    "\n",
    "            temp = 0\n",
    "            # position of input matrix\n",
    "            for m in range(8):\n",
    "                for n in range(8):\n",
    "                    pixel = w[m,n]\n",
    "                    temp += pixel * calcCos(m,u) * calcCos(n,v)\n",
    "\n",
    "            weight = clamp(u) * clamp(v)\n",
    "            dctMatrix[u,v] = weight * temp\n",
    "\n",
    "    return dctMatrix"
   ]
  },
  {
   "cell_type": "code",
   "execution_count": 4,
   "id": "50157831",
   "metadata": {
    "pycharm": {
     "name": "#%%\n"
    }
   },
   "outputs": [
    {
     "name": "stdout",
     "output_type": "stream",
     "text": [
      "Original:\n",
      "[[ 25  42  55  64  68  68  64  55]\n",
      " [ 35  56  72  83  88  88  83  72]\n",
      " [ 42  66  84  96 102 102  96  84]\n",
      " [ 46  72  92 104 111 111 104  92]\n",
      " [ 48  74  94 108 114 114 108  94]\n",
      " [ 47  73  92 105 112 112 105  92]\n",
      " [ 43  67  85  98 104 104  98  85]\n",
      " [ 36  58  74  85  90  90  85  74]]\n",
      "DCT:\n",
      "[[ 648 -106 -104  -10  -23   -2   -7    0]\n",
      " [ -49    6    6    0    1    0    0    0]\n",
      " [ -84   11   11    1    2    0    0    0]\n",
      " [  -4    0    0    0    0    0    0    0]\n",
      " [ -18    2    2    0    0    0    0    0]\n",
      " [  -1    0    0    0    0    0    0    0]\n",
      " [  -6    1    1    0    0    0    0    0]\n",
      " [   0    0    0    0    0    0    0    0]]\n"
     ]
    }
   ],
   "source": [
    "dct = calcDCT(w)\n",
    "print(\"Original:\",w,\"DCT:\",dct,sep='\\n')"
   ]
  }
 ],
 "metadata": {
  "kernelspec": {
   "display_name": "Python 3 (ipykernel)",
   "language": "python",
   "name": "python3"
  },
  "language_info": {
   "codemirror_mode": {
    "name": "ipython",
    "version": 3
   },
   "file_extension": ".py",
   "mimetype": "text/x-python",
   "name": "python",
   "nbconvert_exporter": "python",
   "pygments_lexer": "ipython3",
   "version": "3.8.6"
  }
 },
 "nbformat": 4,
 "nbformat_minor": 5
}