{
 "cells": [
  {
   "cell_type": "markdown",
   "id": "c386fb1a",
   "metadata": {},
   "source": [
    "# Grundlagen der Multimediatechnik\n",
    "## Wintersemester 2021/2022"
   ]
  },
  {
   "cell_type": "markdown",
   "id": "7142b902",
   "metadata": {},
   "source": [
    "## Übungslatt 4\n",
    "<b>Wichtig</b>: Bitte kennzeichnen Sie Ihre Abgabe mit Ihrem Namen und dem Namen Ihres Übungspartners. <br>\n",
    "Laden Sie bitte Ihre Abgabe als PDF-/ZIP-Datei auf der ILIAS-Plattform hoch. Andere Dateiformate sowie Scans von handgeschriebenen Abgaben werden nicht gewertet. Achten Sie darauf, nur kompilierbaren, kommentierten Code abzugeben. Nicht-kompilierbarer Code wird mit <b>0 Punkten</b> bewertet! \\\\\n",
    "Alle Abgaben müussen folgender Namenskonvention entsprechen:  `gmt_uebungXX_nachname1_nachname2.format` <br>\n",
    "Im Falle Ihres Notebooks: `gmt_uebungXX_nachname1_nachmame2.ipynb`"
   ]
  },
  {
   "cell_type": "code",
   "execution_count": 3,
   "id": "176e3e88",
   "metadata": {},
   "outputs": [],
   "source": [
    "# imports\n",
    "\n",
    "import numpy as np\n",
    "import cv2\n",
    "import matplotlib.pyplot as plt"
   ]
  },
  {
   "cell_type": "markdown",
   "id": "6066ada9",
   "metadata": {},
   "source": [
    "### Aufgabe 3 - Histogramm und Kontrasterhöhung 2 (16 Punkte)\n",
    "Auf ILIAS finden Sie das Bild `oilwagon.jpg`. Bearbeiten Sie die folgenden Aufgaben, wobei das `oilwagon.jpg` als Input dient. <br>\n",
    "1. Programmieren Sie als ersten Schritt die Histogrammerzeugung des oben genannten Bildes (als Datenstruktur). Berechnen Sie dafür die Anzahl der Pixel eines Bildes nach Grauwert sortiert. Plotten Sie anschließend Ihr berechnetes Histogramm."
   ]
  },
  {
   "cell_type": "code",
   "execution_count": 4,
   "id": "263688aa",
   "metadata": {},
   "outputs": [],
   "source": [
    "img_wagon = plt.imread(\"oilwagon.jpg\")\n",
    "height, width = img_wagon.shape"
   ]
  },
  {
   "cell_type": "code",
   "execution_count": 5,
   "id": "c9c85e2c",
   "metadata": {},
   "outputs": [
    {
     "data": {
      "image/png": "[encoded data removed]",
      "text/plain": [
       "<Figure size 432x288 with 1 Axes>"
      ]
     },
     "metadata": {
      "needs_background": "light"
     },
     "output_type": "display_data"
    }
   ],
   "source": [
    "# TODO\n",
    "\n",
    "\"\"\"\n",
    "calculate histogram of given grayscale img\n",
    "\"\"\"\n",
    "def getHistogram(img):\n",
    "    hist = np.zeros(256, dtype=int)\n",
    "    h, w = img.shape\n",
    "\n",
    "    for row in range(h):\n",
    "        for col in range(w):\n",
    "            valueInImg = img[row][col]\n",
    "            hist[valueInImg] += 1\n",
    "    return hist\n",
    "\n",
    "pixels = np.arange(256)\n",
    "\n",
    "histogram = getHistogram(img_wagon)\n",
    "plt.bar(pixels, histogram) # -0.5 Achsenbeschriftung fehlt\n",
    "plt.show()"
   ]
  },
  {
   "cell_type": "markdown",
   "id": "5df88abf",
   "metadata": {},
   "source": [
    "2.  Implementieren Sie die Berechnung des kumulativen Histogramms (als Datenstruktur), indem Sie das Histogramm vorher normieren. Plotten Sie das kumulative Histogramm."
   ]
  },
  {
   "cell_type": "code",
   "execution_count": 6,
   "id": "392bb414",
   "metadata": {},
   "outputs": [
    {
     "data": {
      "image/png": "[encoded data removed]",
      "text/plain": [
       "<Figure size 432x288 with 1 Axes>"
      ]
     },
     "metadata": {
      "needs_background": "light"
     },
     "output_type": "display_data"
    }
   ],
   "source": [
    "# TODO\n",
    "\n",
    "\"\"\"\n",
    "normalize given histogram\n",
    "\"\"\"\n",
    "def normalizeHist(hist):\n",
    "    return hist/(width*height)\n",
    "\n",
    "\"\"\"\n",
    "Get accumulated values for each intensity\n",
    "\"\"\"\n",
    "def getAccHist(hist):\n",
    "    accHist = np.zeros(256, dtype=int)\n",
    "    for i in range( 256 ):\n",
    "        sum = 0\n",
    "        for j in range( i ):\n",
    "            sum = sum + histogram[j]\n",
    "        accHist[i] = sum\n",
    "    accHist = normalizeHist(accHist)\n",
    "    return accHist\n",
    "\n",
    "accHist = getAccHist(histogram)\n",
    "plt.bar(pixels,accHist) # -0.5 Achsenbeschriftung fehlt\n",
    "plt.show()"
   ]
  },
  {
   "cell_type": "markdown",
   "id": "388e6b3a",
   "metadata": {},
   "source": [
    "3. Berechnen Sie den globalen Kontrast und die Entropie des Bildes."
   ]
  },
  {
   "cell_type": "code",
   "execution_count": 7,
   "id": "2fec6e0d",
   "metadata": {},
   "outputs": [
    {
     "name": "stdout",
     "output_type": "stream",
     "text": [
      "5.549772325437084\n",
      "0.36470588235294116\n"
     ]
    }
   ],
   "source": [
    "# TODO\n",
    "\n",
    "\"\"\"\n",
    "calculate global contrast for given img\n",
    "\"\"\"\n",
    "def getGlobalContrast(img):\n",
    "    minIntensity = np.min(img)\n",
    "    maxIntensity = np.max(img)\n",
    "    return (maxIntensity - minIntensity)/255\n",
    "\n",
    "\"\"\"\n",
    "calculate entropy of an image with norm. histogram\n",
    "\"\"\"\n",
    "normHist = normalizeHist(histogram)\n",
    "def getEntropy(nHist):\n",
    "    info = np.zeros(256)\n",
    "    for i in range(256):\n",
    "        p = nHist[i]\n",
    "        if p == 0:\n",
    "            break\n",
    "        info[i] = p * np.log2( 1/p )\n",
    "    return info.sum()\n",
    "\n",
    "print(getEntropy(normHist))\n",
    "print(getGlobalContrast(img_wagon))"
   ]
  },
  {
   "cell_type": "markdown",
   "id": "3aa11690",
   "metadata": {},
   "source": [
    "Die Grauwertspreizung ist eine lineare Transformation, welche dazu dient, Kontraste zu verstärken. Dabei wird der Grauwertbereich eines Bildes auf die gesamte zur Verfügung stehende Graupalette gestreckt.\n",
    "\n",
    "4. Führen Sie eine Grauwertspreizung durch, indem Sie nun das Histogramm des Bildes auf das gesamte Grauwert Intervall $[0,255]$ strecken. \n",
    "    Skalieren Sie alle Grauwerte des Bildes, indem Sie folgende Formel anwenden:\n",
    "$$g'(x,y)=\\frac{g(x,y)-g_{\\text{min}}}{g_{\\text{max}}-g_{\\text{min}}}\\cdot 255$$"
   ]
  },
  {
   "cell_type": "code",
   "execution_count": 8,
   "id": "2b75705a",
   "metadata": {},
   "outputs": [
    {
     "data": {
      "text/plain": [
       "\"\\n# save new image as jpg --> in local folder, uncomment to use\\nnewImgFile = np.full( (458,897,3), 0, dtype='uint8')\\nnewImgFile[:,:,0] = newImg\\nnewImgFile[:,:,1] = newImg\\nnewImgFile[:,:,2] = newImg\\nplt.imsave('test_maxContrast.jpg', newImgFile)\\n\""
      ]
     },
     "execution_count": 8,
     "metadata": {},
     "output_type": "execute_result"
    }
   ],
   "source": [
    "newImg = ((img_wagon - np.min(img_wagon))/\n",
    "          (np.max(img_wagon) - np.min(img_wagon)))*255\n",
    "\n",
    "newImg = newImg.astype(int)\n",
    "# hier das neue Bild anzuzeigen hätte schon genügt ;)\n",
    "\"\"\"\n",
    "# save new image as jpg --> in local folder, uncomment to use\n",
    "newImgFile = np.full( (458,897,3), 0, dtype='uint8')\n",
    "newImgFile[:,:,0] = newImg\n",
    "newImgFile[:,:,1] = newImg\n",
    "newImgFile[:,:,2] = newImg\n",
    "plt.imsave('test_maxContrast.jpg', newImgFile)\n",
    "\"\"\""
   ]
  },
  {
   "cell_type": "markdown",
   "id": "97a79aff",
   "metadata": {},
   "source": [
    "    Implementieren Sie erneut eine Histogrammerzeugung (als Datenstruktur), diesmal vom optimierten Bild."
   ]
  },
  {
   "cell_type": "code",
   "execution_count": 9,
   "id": "33b4c7b5",
   "metadata": {},
   "outputs": [
    {
     "data": {
      "image/png": "[encoded data removed]",
      "text/plain": [
       "<Figure size 432x288 with 1 Axes>"
      ]
     },
     "metadata": {
      "needs_background": "light"
     },
     "output_type": "display_data"
    }
   ],
   "source": [
    "# TODO\n",
    "histo_optimized = getHistogram(newImg)\n",
    "normHistOpt = normalizeHist(histo_optimized)\n",
    "# print(histo_optimized[255])\n",
    "# print(getGlobalContrast(newImg))\n",
    "\n",
    "plt.bar(pixels,normHistOpt) # -0.5 Achsenbeschriftung fehlt\n",
    "plt.show()"
   ]
  },
  {
   "cell_type": "markdown",
   "id": "8fbe7910",
   "metadata": {},
   "source": [
    "Was geschieht mit Pixeln, die genau $g_{\\text{min}}$ oder $g_{\\text{max}}$ sind?"
   ]
  },
  {
   "cell_type": "markdown",
   "id": "a551fabf",
   "metadata": {},
   "source": [
    "Min und Max sind quasi die neuen Grenzen, also 0 wird auf min und 255 auf max gemapped\n",
    "\n",
    "Min: Pixelwert = 0,\n",
    "Max: Pixelwert = 255"
   ]
  },
  {
   "cell_type": "code",
   "execution_count": 9,
   "id": "05ae4d34",
   "metadata": {},
   "outputs": [],
   "source": []
  }
 ],
 "metadata": {
  "kernelspec": {
   "display_name": "Python 3 (ipykernel)",
   "language": "python",
   "name": "python3"
  },
  "language_info": {
   "codemirror_mode": {
    "name": "ipython",
    "version": 3
   },
   "file_extension": ".py",
   "mimetype": "text/x-python",
   "name": "python",
   "nbconvert_exporter": "python",
   "pygments_lexer": "ipython3",
   "version": "3.8.6"
  }
 },
 "nbformat": 4,
 "nbformat_minor": 5
}
