{
 "cells": [
  {
   "cell_type": "markdown",
   "id": "6bd3c2ff",
   "metadata": {},
   "source": [
    "# Grundlagen der Multimediatechnik\n",
    "## Wintersemester 2021/2022"
   ]
  },
  {
   "cell_type": "markdown",
   "id": "61c620c3",
   "metadata": {},
   "source": [
    "## Übungslatt 3\n",
    "<b>Wichtig</b>: Bitte kennzeichnen Sie Ihre Abgabe mit Ihrem Namen und dem Namen Ihres Übungspartners. <br>\n",
    "Laden Sie bitte Ihre Abgabe als PDF-/ZIP-Datei auf der ILIAS-Plattform hoch. Andere Dateiformate sowie Scans von handgeschriebenen Abgaben werden nicht gewertet. Achten Sie darauf, nur kompilierbaren, kommentierten Code abzugeben. Nicht-kompilierbarer Code wird mit <b>0 Punkten</b> bewertet! \\\\\n",
    "Alle Abgaben müussen folgender Namenskonvention entsprechen:  `gmt_uebungXX_nachname1_nachname2.format` <br>\n",
    "Im Falle Ihres Notebooks: `gmt_uebungXX_nachname1_nachmame2.ipynb`"
   ]
  },
  {
   "cell_type": "markdown",
   "id": "65d83c72",
   "metadata": {},
   "source": [
    "### Aufgabe 2 - Lauflängenkodierung (8 Punkte)\n",
    "\n",
    "1. Was versteht man unter Entropiekodierung?\n",
    "2. Erklären Sie kurz, wie die in der Vorlesung besprochene Lauflängenkodierung funktioniert und geben Sie ein Beispiel, bei dem die Lauflängenkodierung Anwendung findet."
   ]
  },
  {
   "cell_type": "markdown",
   "id": "7e9785bc",
   "metadata": {
    "pycharm": {
     "name": "#%% md\n"
    }
   },
   "source": [
    "1) Die Entropiekodierung nutzt die Redundanz der Quelle (z.B ein Wort), um kurze Codewoerter zu finden\n",
    "--> verlustfreie Kompression und Datensemantik wird beachtet darunter zaehlen: RLE und LZW\n",
    "\n",
    "2) RLE ist gut bei haeufigen Abfolgen an identischen Symbolen bspw.\n",
    "$Q = wwwwwwwwwBwwwwwwBBBBwwwwww,\\ |Q|=26$\n",
    "$\\\\$ wir sehen, dass es einiges an Redundanz gibt. Jetzt ist die Idee von RLE, dass wir die Folge\n",
    "an gleichen Zeichen kodieren: $[Laenge\\ der\\ Folge|Zeichen]$ d.h\n",
    "$Q' = RLE(Q) = 9w1B6w4B6w, |Q'|=10$\n",
    "$\\\\$ es muessen also 16 Symbole weniger uebertragen werden.\n",
    "$\\\\$ Anwendung findet sie z.B beim Uebertragen von Schwarz-Weiss-Seiten oder in Kombination\n",
    "mit einer modifizierten Huffman-Kodierung bei Fax-Uebertragung zum Einsatz."
   ]
  },
  {
   "cell_type": "markdown",
   "id": "efa399f3",
   "metadata": {},
   "source": [
    "3. Vervollständigen Sie die `rle(word)`-Funktion, die einen Eingabestring erhalten soll und den entsprechenden String mittels Lauflängenkodierung kodieren und zurückgeben.\n",
    "\n",
    "<b>Anmerkung:</b>  Für die Vervollständigung des Skriptes sind keine externen Bibliotheken notwendig und sind somit für die Bearbeitung dieser Aufgabe unzulässig (<b>keine</b> imports!)."
   ]
  },
  {
   "cell_type": "code",
   "execution_count": 272,
   "id": "ac062e5a",
   "metadata": {},
   "outputs": [],
   "source": [
    "def rle(word):\n",
    "    # Init\n",
    "    countWithChar = [ 1 , word[0] ]             # structure: [countOfChar, Char]\n",
    "    output = ''                                 # return string\n",
    "    endOfWordIndex = len(word)-1\n",
    "\n",
    "    \"\"\"\n",
    "    count occurrence of the same char\n",
    "    --> when encountering new char or end of word:\n",
    "    1. save occurrence and counted char\n",
    "    2. then start with the new char or end if end of word\n",
    "    (added: removing count of 1 when just char is counted)\n",
    "    \"\"\"\n",
    "    for i in range(1, len(word) ):\n",
    "\n",
    "        itsTheSameChar = word[i] == countWithChar[1]\n",
    "\n",
    "        if itsTheSameChar:\n",
    "            countWithChar[0] += 1\n",
    "        if not itsTheSameChar \\\n",
    "                or i == endOfWordIndex:\n",
    "\n",
    "            countOfChar = countWithChar[0]\n",
    "            char = countWithChar[1]\n",
    "\n",
    "            if countOfChar == 1:                      # remove 1 when just one char counted\n",
    "                listToString = char\n",
    "            else:\n",
    "                listToString = str(countOfChar)+char  # convert list elements to one string\n",
    "\n",
    "            output += listToString             # created string gets appended to output string\n",
    "            countWithChar = [ 1 , word[i] ]    # set to new char found with count=1\n",
    "\n",
    "    return output"
   ]
  },
  {
   "cell_type": "code",
   "execution_count": 273,
   "id": "c6293c61",
   "metadata": {},
   "outputs": [
    {
     "name": "stdout",
     "output_type": "stream",
     "text": [
      "4l3or3e3m5ips5um3d4o2lo3r\n",
      "4a2l2iquam3lu2ctu6s\n"
     ]
    }
   ],
   "source": [
    "word1 = \"lllloooreeemmmiiiiipsuuuuumdddoooollorrr\"\n",
    "word2 = \"aaaalliiquamlllucctussssss\"\n",
    "\n",
    "print(rle(word1))\n",
    "print(rle(word2))"
   ]
  },
  {
   "cell_type": "markdown",
   "id": "748e488d",
   "metadata": {},
   "source": [
    "### Aufgabe 3 - Burrows-Wheeler-Transformation (11 Punkte)\n",
    "Ziel dieser Aufgabe ist es, die aus der Vorlesung bekannte Burrows-Wheeler-Transformation zu implementieren.\n",
    "\n",
    "<b>Anmerkung:</b>  Für die Vervollständigung des Skriptes sind keine externen Bibliotheken notwendig und sind somit für die Bearbeitung dieser Aufgabe unzulässig (<b>keine</b> imports!).\n",
    "\n",
    "1. Im ersten Schritt müssen Sie die `create_permutation_matrix(word)`-Funktion vervollständigen. Diese bekommt einen String als Input und soll die zugehörige Permutationsmatrix erstellen und lexikographisch sortieren. Anschließend soll die sortierte Matrix zurückgegeben werden."
   ]
  },
  {
   "cell_type": "code",
   "execution_count": 274,
   "id": "91f9b505",
   "metadata": {},
   "outputs": [],
   "source": [
    "def create_permutation_matrix(word):\n",
    "\n",
    "    permMatrix = []      # return permutation matrix\n",
    "    start = 0            # counter for rotation thru indices\n",
    "\n",
    "    \"\"\"\n",
    "    start creating word with different indices\n",
    "    start = 0 --> first left rotation (1 step)\n",
    "    start = 1 --> second ...\n",
    "    examples: w = ABC -1-> BCA -2-> CAB\n",
    "    stops when original word is found\n",
    "    \"\"\"\n",
    "    while True:\n",
    "        permuation = []\n",
    "        length = len(word)\n",
    "\n",
    "        for i in range(start, length+start ):\n",
    "            index = (i+1) % length\n",
    "            permuation.append( word[index] )\n",
    "\n",
    "        permuation = ''.join(permuation)\n",
    "        permMatrix.append(permuation)\n",
    "\n",
    "        if permuation == word:\n",
    "            break\n",
    "\n",
    "        start += 1\n",
    "\n",
    "    return sorted(permMatrix)"
   ]
  },
  {
   "cell_type": "markdown",
   "id": "0a11bbc8",
   "metadata": {},
   "source": [
    "2. Vervollständigen Sie anschließend die `bwt_transform(matrix, word)`-Funktion. Diese bekommt als Parameter die sortierte Matrix aus Schritt 1 sowie das ursprüngliche Wort zur Ermittlung des zugehörigen Index. Am Ende sollen der ermittelte Index sowie die letzte Spalte der Matrix als String zurückgegeben werden."
   ]
  },
  {
   "cell_type": "code",
   "execution_count": 275,
   "id": "f24a4b03",
   "metadata": {},
   "outputs": [],
   "source": [
    "def bwt_transform(matrix, word):\n",
    "\n",
    "    output = ''\n",
    "    index = 0\n",
    "\n",
    "    for i in range( len(matrix) ):\n",
    "\n",
    "        matrix[i] = ''.join(matrix[i])\n",
    "        lastChar = matrix[i][-1]\n",
    "        output += lastChar\n",
    "\n",
    "        if matrix[i] == word:\n",
    "            index = i\n",
    "\n",
    "    return [output, index]"
   ]
  },
  {
   "cell_type": "markdown",
   "id": "9fe981cd",
   "metadata": {},
   "source": [
    "3. Implementieren Sie anschließend noch die Dekodierung in der `bwt_retransform(encoded_word, idx)`-Funktion. `encoded_word` ist dabei der zurvor kodierte String und `idx` der zugehörige ermittelte Index."
   ]
  },
  {
   "cell_type": "code",
   "execution_count": 276,
   "outputs": [],
   "source": [
    "def bwt_retransform(encoded_word, idx):\n",
    "\n",
    "    # create data struct [pos, charOfEncoding]\n",
    "    encodedWithPos = []\n",
    "    for index, char in enumerate(encoded_word):\n",
    "        encodedWithPos.append([index,char])\n",
    "\n",
    "    # sort encoded word with saved data abt original pos\n",
    "    sortedTable = []\n",
    "    encodedSorted = ''.join(sorted(encoded_word))\n",
    "    for i in range( len(encodedSorted) ):\n",
    "        for elem in encodedWithPos:\n",
    "\n",
    "            if encodedSorted[i] == elem[1]:\n",
    "\n",
    "                sortedTable.append( elem )\n",
    "                encodedWithPos.remove( elem )\n",
    "\n",
    "                break\n",
    "\n",
    "    index = idx\n",
    "    decoding = ''\n",
    "\n",
    "    for elem in sortedTable:\n",
    "\n",
    "        decoding += sortedTable[index][1]\n",
    "        index = sortedTable[index][0]\n",
    "\n",
    "    return decoding"
   ],
   "metadata": {
    "collapsed": false,
    "pycharm": {
     "name": "#%%\n"
    }
   }
  },
  {
   "cell_type": "code",
   "execution_count": 277,
   "id": "d8e5512f",
   "metadata": {},
   "outputs": [
    {
     "name": "stdout",
     "output_type": "stream",
     "text": [
      "Input: bananenbaum\n",
      "Sortierte Matrix: \n",
      " ['ananenbaumb', 'anenbaumban', 'aumbananenb', 'bananenbaum', 'baumbananen', 'enbaumbanan', 'mbananenbau', 'nanenbaumba', 'nbaumbanane', 'nenbaumbana', 'umbananenba']\n",
      "Output: bnbmnnuaeaa mit Index 3\n",
      "Rücktransformation: bananenbaum\n"
     ]
    }
   ],
   "source": [
    "word1 = \"bananenbaum\"\n",
    "print(\"Input: {}\" .format(word1))\n",
    "\n",
    "sorted_matrix1 = create_permutation_matrix(word1)\n",
    "print(\"Sortierte Matrix: \\n {}\" .format(sorted_matrix1))\n",
    "\n",
    "output1, idx1 = bwt_transform(sorted_matrix1, word1)\n",
    "\n",
    "print(\"Output: {} mit Index {}\" .format(output1, idx1))\n",
    "rbwt1 = bwt_retransform(output1, idx1)\n",
    "print(\"Rücktransformation: {}\" .format(rbwt1))"
   ]
  },
  {
   "cell_type": "code",
   "execution_count": 278,
   "id": "0a355dc7",
   "metadata": {},
   "outputs": [
    {
     "name": "stdout",
     "output_type": "stream",
     "text": [
      "Input: panamamanman\n",
      "Sortierte Matrix: \n",
      " ['amamanmanpan', 'amanmanpanam', 'anamamanmanp', 'anmanpanamam', 'anpanamamanm', 'mamanmanpana', 'manmanpanama', 'manpanamaman', 'namamanmanpa', 'nmanpanamama', 'npanamamanma', 'panamamanman']\n",
      "Output: nmpmmaanaaan mit Index 11\n",
      "Rücktransformation: panamamanman\n"
     ]
    }
   ],
   "source": [
    "word2 = \"panamamanman\"\n",
    "print(\"Input: {}\" .format(word2))\n",
    "\n",
    "sorted_matrix2 = create_permutation_matrix(word2)\n",
    "print(\"Sortierte Matrix: \\n {}\" .format(sorted_matrix2))\n",
    "\n",
    "output2, idx2 = bwt_transform(sorted_matrix2, word2)\n",
    "\n",
    "print(\"Output: {} mit Index {}\" .format(output2, idx2))\n",
    "rbwt2 = bwt_retransform(output2, idx2)\n",
    "print(\"Rücktransformation: {}\" .format(rbwt2))"
   ]
  },
  {
   "cell_type": "markdown",
   "id": "cee0123d",
   "metadata": {},
   "source": [
    "<b>Anmerkung:</b> Sollten Probleme bei den ersten beiden Teilaufgaben auftreten, so können Sie zum Testen Ihrer Dekodierungsfunktion folgende Parameter verwenden: `TTROOO,5`"
   ]
  },
  {
   "cell_type": "code",
   "execution_count": 279,
   "id": "cca91f18",
   "metadata": {},
   "outputs": [
    {
     "name": "stdout",
     "output_type": "stream",
     "text": [
      "TOTORO\n"
     ]
    }
   ],
   "source": [
    "print(bwt_retransform(\"TTROOO\", 5))"
   ]
  },
  {
   "cell_type": "markdown",
   "id": "1e12d492",
   "metadata": {},
   "source": [
    "4. Bei der Burrows-Wheeler-Transformtion findet keine Kompression statt. Welcher Vorteil ergibt sich dennoch durch die Anwendung der Burrows-Wheeler-Transformation?"
   ]
  },
  {
   "cell_type": "markdown",
   "id": "16a8f144",
   "metadata": {},
   "source": [
    "Die Sortierung ist allgemein aber auch fuer grosse Datenmengen schnell berechenbar, braucht wenig Speicher\n",
    "und es existiert kein Informationsverlust.\n",
    "An sich bietet BWT keine Kompression, jedoch wird in Kombination mit tatsaechlichen Kompressions-Methoden\n",
    "etwa der RLE oder Hoffman-Kodierung, Kompression moeglich. Diese ist sogar ganz effektiv, da BWT die Quelle\n",
    "fuer die Methoden gut aufarbeitet.\n"
   ]
  },
  {
   "cell_type": "code",
   "execution_count": 279,
   "id": "bbc5d304",
   "metadata": {},
   "outputs": [],
   "source": []
  }
 ],
 "metadata": {
  "kernelspec": {
   "name": "pycharm-3e407fbe",
   "language": "python",
   "display_name": "PyCharm (GMT)"
  },
  "language_info": {
   "codemirror_mode": {
    "name": "ipython",
    "version": 3
   },
   "file_extension": ".py",
   "mimetype": "text/x-python",
   "name": "python",
   "nbconvert_exporter": "python",
   "pygments_lexer": "ipython3",
   "version": "3.8.12"
  }
 },
 "nbformat": 4,
 "nbformat_minor": 5
}