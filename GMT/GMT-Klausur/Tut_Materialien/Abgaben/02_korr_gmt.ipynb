{
 "cells": [
  {
   "cell_type": "markdown",
   "id": "4bedcc3b",
   "metadata": {},
   "source": [
    "# Grundlagen der Multimediatechnik\n",
    "## Wintersemester 2021/2022"
   ]
  },
  {
   "cell_type": "markdown",
   "id": "117e41f0",
   "metadata": {},
   "source": [
    "## Übungsblatt 2\n",
    "<b>Wichtig:</b> Bitte kennzeichnen Sie Ihre Abgabe mit Ihrem Namen und dem Namen Ihres Übungspartners. <br>\n",
    "Laden Sie bitte Ihre Abgabe als PDF-/ZIP-Datei auf der ILIAS-Plattform hoch. Andere Dateiformate sowie Scans von handgeschriebenen Abgaben werden nicht gewertet. Achten Sie darauf, nur kompilierbaren, kommentierten Code abzugeben. Nicht-kompilierbarer Code wird mit <b>0 Punkten</b> bewertet! \\\\\n",
    "Alle Abgaben müussen folgender Namenskonvention entsprechen:  `gmt_uebungXX_nachname1_nachname2.format` <br>\n",
    "Im Falle Ihres Notebooks: `gmt_uebungXX_nachname1_nachmame2.ipynb`"
   ]
  },
  {
   "cell_type": "markdown",
   "id": "dd6b55aa",
   "metadata": {},
   "source": [
    "### Aufgabe 2 - Huffman (15 Punkte)\n",
    "\n",
    "Ziel dieser Aufgabe ist es, den Algorithmus der Huffman-Kodierung zu implementieren. Die [Huffman-Kodierung](https://de.wikipedia.org/wiki/Huffman-Kodierung) ist eine Entropiekodierung und ordnet jedem Quellsymbol unter Berücksichtigung deren Häufigkeiten Codewörter mit variabler Länge zu. <br>\n",
    "Zur Bearbeitung dieser Aufgabe wird eine Klasse `node` mitgeliefert, die durch ihren Namen, einer zugehörigen Häufigkeit und ihre zwei Kinderknoten definiert ist. <br>\n",
    "<b>Anmerkung:</b>  Für die Vervollständigung des Skriptes sind keine externen Bibliotheken notwendig und sind somit für die Bearbeitung dieser Aufgabe unzulässig (<b>keine</b> imports!)."
   ]
  },
  {
   "cell_type": "code",
   "execution_count": 1,
   "id": "2bc50879",
   "metadata": {},
   "outputs": [],
   "source": [
    "class Node:\n",
    "    def __init__(self, name, frequency, left=None, right=None):\n",
    "        self.name = name\n",
    "        self.frequency = frequency\n",
    "        self.left = left\n",
    "        self.right = right\n",
    "\n"
   ]
  },
  {
   "cell_type": "markdown",
   "id": "d143d552",
   "metadata": {},
   "source": [
    "1. Vervollständigen Sie die `create_Huffman()`-Funktion, die als Input einen Eingabestring erhält und den entsprechenden Huffman-Tree zur Kodierung zurückgibt. Verwenden Sie für die Implementierung des Baumes die im Skript mitgelieferte `node`-Klasse. Speichern Sie den jeweiligen `char`-Value im Namen der Node."
   ]
  },
  {
   "cell_type": "code",
   "execution_count": 2,
   "id": "6da878aa",
   "metadata": {},
   "outputs": [],
   "source": [
    "def create_Huffman(word):\n",
    "    # TODO\n",
    "\n",
    "    def split(string):\n",
    "        return [char for char in string]\n",
    "    \n",
    "    wordlist = split(word)\n",
    "    wordlist.sort()\n",
    "\n",
    "    dict_letters = {}\n",
    "\n",
    "    for letter in wordlist:\n",
    "\n",
    "        if letter in dict_letters:\n",
    "            dict_letters[letter] += 1\n",
    "        \n",
    "        else:\n",
    "            dict_letters[letter] = 1\n",
    "\n",
    "\n",
    "    sorted_freq = sorted(dict_letters.items(), key= lambda x:x[1], reverse=False)\n",
    "\n",
    "    def createNodes(sorted_freq):\n",
    "        nodeslist = []\n",
    "        i = 0\n",
    "        for x in sorted_freq: \n",
    "            x = Node(\"%s\" %sorted_freq[i][0], sorted_freq[i][1])\n",
    "            nodeslist.append(x)\n",
    "            i +=1\n",
    "        return nodeslist\n",
    "\n",
    " \n",
    "    def compare_freq(node, nodeslist): \n",
    "        i = 0 \n",
    "        if len(nodeslist) == 0: \n",
    "            nodeslist.insert(0, node)\n",
    "            return nodeslist\n",
    "\n",
    "        else: \n",
    "            while len(nodeslist) > 0:\n",
    "\n",
    "                if i == len(nodeslist):\n",
    "                    nodeslist.append(node)\n",
    "                    return nodeslist\n",
    "\n",
    "                elif node.frequency <= nodeslist[i].frequency: \n",
    "                    nodeslist.insert(i, node)\n",
    "                    return nodeslist  \n",
    "                \n",
    "                i += 1\n",
    "\n",
    "    nodeslist = createNodes(sorted_freq)\n",
    "\n",
    "    tree = Node(\"root\", 0)\n",
    "    \n",
    "    while len(nodeslist) >= 2:\n",
    "\n",
    "        new_node = Node(\"x\", nodeslist[0].frequency + nodeslist[1].frequency)\n",
    "        new_node.left = nodeslist[0]\n",
    "        new_node.right = nodeslist[1]\n",
    "\n",
    "        del nodeslist[0]\n",
    "        del nodeslist[0]\n",
    "        nodeslist = compare_freq(new_node, nodeslist)\n",
    "    \n",
    "    \n",
    "    nodeslist[0].name = \"root\"\n",
    "    tree = nodeslist[0]\n",
    "    return tree\n",
    "\n"
   ]
  },
  {
   "cell_type": "code",
   "execution_count": 2,
   "id": "a1f3d03c",
   "metadata": {},
   "outputs": [],
   "source": []
  },
  {
   "cell_type": "markdown",
   "id": "2e5a4399",
   "metadata": {},
   "source": [
    "2. Implementieren Sie die `getCode()`-Funktion, die den Huffman-Baum als Input bekommt und die Kodierung der Symbole (z. B. in einem `dictionary`) zurückgibt."
   ]
  },
  {
   "cell_type": "code",
   "execution_count": 3,
   "id": "a69806fc",
   "metadata": {},
   "outputs": [],
   "source": [
    "def getCode(node, current_code=\"\", dictTree={}):\n",
    "\n",
    "       \n",
    "    if node.left == None and node.right == None: \n",
    "        dictTree[node.name] = current_code\n",
    "        return dictTree\n",
    "\n",
    "    elif node.name == \"x\":\n",
    "        None\n",
    "        \n",
    "        \n",
    "    getCode(node.left, current_code + str(0), dictTree)\n",
    "    \n",
    "    getCode(node.right, current_code + str(1), dictTree)\n",
    "    if node.name == \"root\":\n",
    "        return dictTree\n"
   ]
  },
  {
   "cell_type": "markdown",
   "id": "64fc158f",
   "metadata": {},
   "source": [
    "3. Implementieren Sie die `encoding()`-Funktion, die einen gegebenen String gemäß des zuvor implementierten Huffman-Baumes kodiert und zurückgibt."
   ]
  },
  {
   "cell_type": "code",
   "execution_count": 4,
   "id": "ead5d7a8",
   "metadata": {},
   "outputs": [],
   "source": [
    "def encoding(word, dictTree):\n",
    "    \n",
    "    def split(string):\n",
    "        return [char for char in string]\n",
    "    \n",
    "    wordlist = split(word)\n",
    "    encoded_str = \"\"\n",
    "\n",
    "    for letter in wordlist: \n",
    "        \n",
    "        encoded_str += dictTree[letter]\n",
    "\n",
    "    return encoded_str"
   ]
  },
  {
   "cell_type": "markdown",
   "id": "c3ed1c15",
   "metadata": {},
   "source": [
    "4. Anschließend implementieren Sie die `decoding()`-Funktion, die einen Binärstring gemäß des zuvor implementierten Huffman-Baumes in Klartext dekodiert."
   ]
  },
  {
   "cell_type": "code",
   "execution_count": 5,
   "id": "5ef6be7f",
   "metadata": {},
   "outputs": [],
   "source": [
    "def decoding(code, dictTree):\n",
    "    # TODO\n",
    "    keys = list(dictTree.keys())\n",
    "    values = list(dictTree.values())\n",
    "    i = 0\n",
    "    s = 1\n",
    "    decoded_str = \"\"\n",
    "\n",
    "    while s <= len(code):\n",
    "        \n",
    "        binary_str = code[i:s]\n",
    "\n",
    "        if binary_str in dictTree.values():\n",
    "            key = values.index(binary_str)\n",
    "            decoded_str += keys[key]\n",
    "            i = s \n",
    "            \n",
    "        s += 1\n",
    "                \n",
    "    return decoded_str"
   ]
  },
  {
   "cell_type": "code",
   "execution_count": 7,
   "id": "267f1dd1",
   "metadata": {},
   "outputs": [
    {
     "name": "stdout",
     "output_type": "stream",
     "text": [
      "Wort: BIOBANANENANBAU\n",
      "Kodierungen der jeweiligen Symbolen: {'B': '00', 'O': '0100', 'U': '0101', 'E': '0110', 'I': '0111', 'A': '10', 'N': '11'}\n",
      "Kodiertes Wort: 00011101000010111011011011101100100101\n",
      "Dekodiertes Wort: BIOBANANENANBAU\n"
     ]
    }
   ],
   "source": [
    "#word = \"RASENSUCHER\"\n",
    "word = \"BIOBANANENANBAU\"\n",
    "print(\"Wort: %s\" % word)\n",
    "tree = create_Huffman(word)\n",
    "dictTree = getCode(tree)\n",
    "print(\"Kodierungen der jeweiligen Symbolen: %s\" % dictTree)\n",
    "\n",
    "encoding_word = encoding(word, dictTree)\n",
    "print(\"Kodiertes Wort: %s\" % encoding_word)\n",
    "decoding_word = decoding(encoding_word, dictTree)\n",
    "print(\"Dekodiertes Wort: %s\" % decoding_word)"
   ]
  },
  {
   "cell_type": "markdown",
   "id": "d4e1bece",
   "metadata": {},
   "source": [
    "5. Weshalb ist die Kodierung immer eindeutig?"
   ]
  },
  {
   "cell_type": "markdown",
   "id": "9e9bfdc8",
   "metadata": {},
   "source": []
  },
  {
   "cell_type": "code",
   "execution_count": 6,
   "id": "4d3c02a8",
   "metadata": {},
   "outputs": [],
   "source": []
  }
 ],
 "metadata": {
  "interpreter": {
   "hash": "958f91b0834910121da56b497d63fcdff6cf6c0363706da31e8c55a4a7b3f26c"
  },
  "kernelspec": {
   "display_name": "Python 3.8.3 64-bit",
   "language": "python",
   "name": "python3"
  },
  "language_info": {
   "codemirror_mode": {
    "name": "ipython",
    "version": 3
   },
   "file_extension": ".py",
   "mimetype": "text/x-python",
   "name": "python",
   "nbconvert_exporter": "python",
   "pygments_lexer": "ipython3",
   "version": "3.8.3"
  },
  "orig_nbformat": 4
 },
 "nbformat": 4,
 "nbformat_minor": 2
}