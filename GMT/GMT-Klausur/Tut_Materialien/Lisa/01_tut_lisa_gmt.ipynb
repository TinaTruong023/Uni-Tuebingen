{
 "cells": [
  {
   "cell_type": "code",
   "execution_count": 62,
   "outputs": [],
   "source": [
    "import numpy as np\n",
    "import matplotlib.pyplot as plt"
   ],
   "metadata": {
    "collapsed": false,
    "pycharm": {
     "name": "#%%\n"
    }
   }
  },
  {
   "cell_type": "markdown",
   "source": [
    "## Arrays aus der Bibliothek numpy\n",
    "In den folgenden Übungen werden wir viel mehrdimensionalen Arrays arbeiten, sowohl um Bilder darzustellen als auch\n",
    "Filter später auf diese anwenden zu können.\n",
    "\n",
    "Ähnlich wie Listen, können Arrays leicht mit Werten initialisiert und ausgegeben werden. Zusätzlich können wir einen\n",
    "Datentyp angeben:"
   ],
   "metadata": {
    "collapsed": false,
    "pycharm": {
     "name": "#%% md\n"
    }
   }
  },
  {
   "cell_type": "code",
   "execution_count": 63,
   "outputs": [
    {
     "name": "stdout",
     "output_type": "stream",
     "text": [
      "['0' '1' '2' 'three' '4' '5']\n",
      "[0.3 1.2 4.8]\n",
      "<class 'numpy.ndarray'>\n"
     ]
    }
   ],
   "source": [
    "arr1 = np.array([0,1,2,'three',4,5])\n",
    "arr2 = np.array([0.3,1.2,4.8], dtype=float)\n",
    "#err = np.array([0,'one'], dtype=int) # erzeugt einen Laufzeitfehler\n",
    "\n",
    "print(arr1)\n",
    "print(arr2)\n",
    "print(type(arr1))"
   ],
   "metadata": {
    "collapsed": false,
    "pycharm": {
     "name": "#%%\n"
    }
   }
  },
  {
   "cell_type": "markdown",
   "source": [
    "Auch mehrdimensionale Array lassen sich leicht erstellen, sowohl mit spezifischen Werten als auch mit \"dummy\" Werten\n",
    "wie 0 oder 1:"
   ],
   "metadata": {
    "collapsed": false
   }
  },
  {
   "cell_type": "code",
   "execution_count": 64,
   "outputs": [
    {
     "name": "stdout",
     "output_type": "stream",
     "text": [
      "2x3 Matrix: \n",
      "[[0 1 2]\n",
      " [3 4 5]]\n",
      "\n",
      "leere 2x3 Matrix: \n",
      "[[0 0 0]\n",
      " [0 0 0]]\n",
      "\n",
      "3x2 Matrix mit float Einsen: \n",
      "[[1. 1.]\n",
      " [1. 1.]\n",
      " [1. 1.]]\n",
      "\n"
     ]
    }
   ],
   "source": [
    "arr2 = np.array([ [0,1,2], [3,4,5] ])\n",
    "print(\"2x3 Matrix: \\n{}\\n\" .format(arr2))\n",
    "\n",
    "arr3 = np.zeros((2,3), dtype=int)\n",
    "print(\"leere 2x3 Matrix: \\n{}\\n\" .format(arr3))\n",
    "\n",
    "arr4 = np.ones((3,2), dtype=float)\n",
    "print(\"3x2 Matrix mit float Einsen: \\n{}\\n\" .format(arr4))"
   ],
   "metadata": {
    "collapsed": false,
    "pycharm": {
     "name": "#%%\n"
    }
   }
  },
  {
   "cell_type": "markdown",
   "source": [
    "Die Dimensionen und die Form können wie folgt ausgegeben und gespeichert werden:"
   ],
   "metadata": {
    "collapsed": false
   }
  },
  {
   "cell_type": "code",
   "execution_count": 65,
   "outputs": [
    {
     "name": "stdout",
     "output_type": "stream",
     "text": [
      "Dimensionen: 2\n",
      "Form: (3, 2)\n",
      "Form: 3 x 2\n"
     ]
    }
   ],
   "source": [
    "print('Dimensionen:', arr4.ndim)\n",
    "\n",
    "height, width = arr4.shape\n",
    "print('Form:', arr4.shape)\n",
    "print('Form:', height, 'x', width)\n"
   ],
   "metadata": {
    "collapsed": false,
    "pycharm": {
     "name": "#%%\n"
    }
   }
  },
  {
   "cell_type": "markdown",
   "source": [
    "Wenn ein leeres Array mit der gleichen Größe, wie ein schon vorhandes erstellt werden soll, kann man sich den Schritt\n",
    "über das Auslesen der Form wie folgt ersparen:\n",
    "\n"
   ],
   "metadata": {
    "collapsed": false
   }
  },
  {
   "cell_type": "code",
   "execution_count": 66,
   "outputs": [
    {
     "name": "stdout",
     "output_type": "stream",
     "text": [
      "[[0 0]\n",
      " [0 0]\n",
      " [0 0]]\n"
     ]
    }
   ],
   "source": [
    "arr4_copy = np.zeros_like(arr4, dtype=int)\n",
    "print(arr4_copy)\n"
   ],
   "metadata": {
    "collapsed": false,
    "pycharm": {
     "name": "#%%\n"
    }
   }
  },
  {
   "cell_type": "markdown",
   "source": [
    "Der Zugriff auf einzelne Werte erfolgt ähnlich wie bei Listen:\n"
   ],
   "metadata": {
    "collapsed": false
   }
  },
  {
   "cell_type": "code",
   "execution_count": 67,
   "outputs": [
    {
     "name": "stdout",
     "output_type": "stream",
     "text": [
      "[[0 1 2]\n",
      " [3 4 5]] \n",
      "\n",
      "[[ 0  1 42]\n",
      " [ 3  4  5]] \n",
      "\n",
      "42\n"
     ]
    }
   ],
   "source": [
    "print(arr2 , '\\n')\n",
    "arr2[0,2] = 42\n",
    "print(arr2 , '\\n')\n",
    "print(arr2[0,2])"
   ],
   "metadata": {
    "collapsed": false,
    "pycharm": {
     "name": "#%%\n"
    }
   }
  },
  {
   "cell_type": "markdown",
   "source": [
    "Slicing kann nützlich sein, wenn uns nur ein bestimmter Teil des Arrays interessiert:"
   ],
   "metadata": {
    "collapsed": false
   }
  },
  {
   "cell_type": "code",
   "execution_count": 68,
   "outputs": [
    {
     "name": "stdout",
     "output_type": "stream",
     "text": [
      "[[ 1 42]\n",
      " [ 4  5]] \n",
      "\n",
      "[[ 0 42]\n",
      " [ 3  5]]\n"
     ]
    }
   ],
   "source": [
    "print(arr2[:, 1:3], '\\n')\n",
    "print(arr2[:, 0:3:2])"
   ],
   "metadata": {
    "collapsed": false,
    "pycharm": {
     "name": "#%%\n"
    }
   }
  },
  {
   "cell_type": "markdown",
   "source": [
    "Auch das Iterieren über die einzelnen Elemente funktioniert wie gewohnt:\n"
   ],
   "metadata": {
    "collapsed": false
   }
  },
  {
   "cell_type": "code",
   "execution_count": 69,
   "outputs": [
    {
     "name": "stdout",
     "output_type": "stream",
     "text": [
      "0\n",
      "1\n",
      "42\n",
      "3\n",
      "4\n",
      "5\n",
      "\n",
      "Oder alternativ:\n",
      "0\n",
      "1\n",
      "42\n",
      "3\n",
      "4\n",
      "5\n"
     ]
    }
   ],
   "source": [
    "for x in arr2:\n",
    "    for y in x:\n",
    "        print(y)\n",
    "print('\\nOder alternativ:')\n",
    "for x in np.nditer(arr2):\n",
    "    print(x)"
   ],
   "metadata": {
    "collapsed": false,
    "pycharm": {
     "name": "#%%\n"
    }
   }
  },
  {
   "cell_type": "markdown",
   "source": [
    "### Arithmetik mit Arrays\n",
    "Alle arithmetischen Operationen, die ihr für Matrizen kennt, können auch mit Arrays ausgeführt werden:\n"
   ],
   "metadata": {
    "collapsed": false
   }
  },
  {
   "cell_type": "code",
   "execution_count": 70,
   "outputs": [
    {
     "name": "stdout",
     "output_type": "stream",
     "text": [
      "[1 2 3] \n",
      "\n",
      "[[2 2 2]] \n",
      "\n",
      "[[3]\n",
      " [3]\n",
      " [3]] \n",
      "\n"
     ]
    }
   ],
   "source": [
    "arr1 = np.array([1,2,3])\n",
    "arr2 = np.ones((1,3), dtype=int) * 2\n",
    "arr3 = np.ones((3,1), dtype=int) * 3\n",
    "\n",
    "print(arr1, '\\n')\n",
    "print(arr2, '\\n')\n",
    "print(arr3, '\\n')"
   ],
   "metadata": {
    "collapsed": false,
    "pycharm": {
     "name": "#%%\n"
    }
   }
  },
  {
   "cell_type": "markdown",
   "source": [
    "Addition und Subtraktion:\n"
   ],
   "metadata": {
    "collapsed": false
   }
  },
  {
   "cell_type": "code",
   "execution_count": 71,
   "outputs": [
    {
     "name": "stdout",
     "output_type": "stream",
     "text": [
      "Addition: [[3 4 5]] \n",
      "\n",
      "Subtraktion: [[-1  0  1]]\n"
     ]
    }
   ],
   "source": [
    "print('Addition:', arr1 + arr2, '\\n')\n",
    "print('Subtraktion:', arr1 - arr2)"
   ],
   "metadata": {
    "collapsed": false,
    "pycharm": {
     "name": "#%%\n"
    }
   }
  },
  {
   "cell_type": "markdown",
   "source": [
    "Elementweises Multiplizieren, Dividieren, Exponieren und Matrixmultiplikation:"
   ],
   "metadata": {
    "collapsed": false,
    "pycharm": {
     "name": "#%% md\n"
    }
   }
  },
  {
   "cell_type": "code",
   "execution_count": 72,
   "outputs": [
    {
     "name": "stdout",
     "output_type": "stream",
     "text": [
      "elementweise Multiplikation: [[2 4 6]] \n",
      "\n",
      "elementweise Division: [[0.5 1.  1.5]] \n",
      "\n",
      "elementweises Exponieren: [[1 4 9]] \n",
      "\n",
      "Matrixmultiplikation: [18]\n"
     ]
    }
   ],
   "source": [
    "print('elementweise Multiplikation:', arr1 * arr2, '\\n')\n",
    "print('elementweise Division:', arr1 / arr2, '\\n')\n",
    "print('elementweises Exponieren:', arr1 ** arr2, '\\n')\n",
    "print('Matrixmultiplikation:', arr1 @ arr3)"
   ],
   "metadata": {
    "collapsed": false,
    "pycharm": {
     "name": "#%%\n"
    }
   }
  },
  {
   "cell_type": "markdown",
   "source": [
    "## Plots mit Hilfe von matplotlib.pyplot\n",
    "Für die Darstellung von Datenpunkten oder auch Funktionen in Graphen bietet die matplotlib.pyplot Bibliothek vielfältige\n",
    "Methoden. Hier wird nur ein kleiner Ausschnitt der Möglichkeiten gezeigt, im Netz findet ihr jeder Zeit weitere\n",
    "Anwendungsmöglichkeiten.\n",
    "\n",
    "Der plot() Methode können z.B. x- und y-Werte von Datenpunkten für einen Graphen übergeben werden. Alternativ auch nur\n",
    "y-Werte:"
   ],
   "metadata": {
    "collapsed": false,
    "pycharm": {
     "name": "#%% md\n"
    }
   }
  },
  {
   "cell_type": "code",
   "execution_count": 73,
   "outputs": [
    {
     "data": {
      "text/plain": "<Figure size 432x288 with 1 Axes>",
      "image/png": "[encoded data removed]"
     },
     "metadata": {
      "needs_background": "light"
     },
     "output_type": "display_data"
    },
    {
     "data": {
      "text/plain": "<Figure size 432x288 with 1 Axes>",
      "image/png": "[encoded data removed]"
     },
     "metadata": {
      "needs_background": "light"
     },
     "output_type": "display_data"
    }
   ],
   "source": [
    "x_cord = np.array([0, 2, 6, 10, 24])\n",
    "y_cord1 = np.array([4,0,9,23,-6])\n",
    "y_cord2 = np.array([19,-2,0,8,-4])\n",
    "\n",
    "plt.plot(y_cord1)\n",
    "plt.show()\n",
    "\n",
    "plt.plot(x_cord, y_cord1)\n",
    "plt.show()"
   ],
   "metadata": {
    "collapsed": false,
    "pycharm": {
     "name": "#%%\n"
    }
   }
  },
  {
   "cell_type": "markdown",
   "source": [
    "Mehrere Datensätze können in einem Graphen angezeigt oder in Subplots zusammengefasst werden:"
   ],
   "metadata": {
    "collapsed": false
   }
  },
  {
   "cell_type": "code",
   "execution_count": 74,
   "outputs": [
    {
     "data": {
      "text/plain": "<Figure size 432x288 with 1 Axes>",
      "image/png": "[encoded data removed]"
     },
     "metadata": {
      "needs_background": "light"
     },
     "output_type": "display_data"
    },
    {
     "data": {
      "text/plain": "<Figure size 432x288 with 1 Axes>",
      "image/png": "[encoded data removed]"
     },
     "metadata": {
      "needs_background": "light"
     },
     "output_type": "display_data"
    },
    {
     "data": {
      "text/plain": "<Figure size 432x288 with 2 Axes>",
      "image/png": "[encoded data removed]"
     },
     "metadata": {
      "needs_background": "light"
     },
     "output_type": "display_data"
    }
   ],
   "source": [
    "plt.plot(x_cord, y_cord1, marker = 'o')\n",
    "plt.plot(x_cord, y_cord2, marker = 's')\n",
    "plt.show()\n",
    "\n",
    "plt.scatter(x_cord, y_cord1, marker = 'o')\n",
    "plt.scatter(x_cord, y_cord2, marker = 's')\n",
    "plt.show()\n",
    "\n",
    "plt.subplot(1,2,1) # 1 Reihe, 2 Spalten und jetzt folgt der 1. Graph\n",
    "plt.plot(x_cord, y_cord1, marker = 'o')\n",
    "plt.subplot(1,2,2)\n",
    "plt.plot(x_cord, y_cord2, marker = 's')\n",
    "plt.show()\n",
    "\n"
   ],
   "metadata": {
    "collapsed": false,
    "pycharm": {
     "name": "#%%\n"
    }
   }
  },
  {
   "cell_type": "markdown",
   "source": [
    "Auch Bilder können angezeigt werden:"
   ],
   "metadata": {
    "collapsed": false
   }
  },
  {
   "cell_type": "code",
   "execution_count": 75,
   "outputs": [
    {
     "data": {
      "text/plain": "<Figure size 432x288 with 1 Axes>",
      "image/png": "[encoded data removed]"
     },
     "metadata": {
      "needs_background": "light"
     },
     "output_type": "display_data"
    }
   ],
   "source": [
    "img_rgb = np.zeros((5,5,3), dtype = np.uint8)\n",
    "img_rgb[:] = np.array([255, 196,0], dtype= np.uint8)\n",
    "\n",
    "plt.axis('off')\n",
    "plt.imshow(img_rgb)\n",
    "plt.show()"
   ],
   "metadata": {
    "collapsed": false,
    "pycharm": {
     "name": "#%%\n"
    }
   }
  }
 ],
 "metadata": {
  "kernelspec": {
   "display_name": "Python 3",
   "language": "python",
   "name": "python3"
  },
  "language_info": {
   "codemirror_mode": {
    "name": "ipython",
    "version": 2
   },
   "file_extension": ".py",
   "mimetype": "text/x-python",
   "name": "python",
   "nbconvert_exporter": "python",
   "pygments_lexer": "ipython2",
   "version": "2.7.6"
  }
 },
 "nbformat": 4,
 "nbformat_minor": 0
}